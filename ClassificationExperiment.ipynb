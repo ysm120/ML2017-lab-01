{
 "cells": [
  {
   "cell_type": "code",
   "execution_count": 15,
   "metadata": {},
   "outputs": [],
   "source": [
    "from sklearn.datasets import load_svmlight_file\n",
    "from numpy import *\n",
    "from sklearn.model_selection import train_test_split\n",
    "data=load_svmlight_file(r'D:\\australian_scale.txt')#读取数据集\n",
    "X=data[0]\n",
    "y=data[1]\n",
    "S=zeros((690,14))\n",
    "S=mat(S)\n",
    "X=X+S\n",
    "X=X.getA()\n",
    "c=ones(X.shape[0])#插入一列1，这样参数b就相当与W0\n",
    "X=insert(X, 0, values=c, axis=1)\n",
    "X=mat(X)\n",
    "X_train, X_validation, y_train, y_validation = train_test_split(X, y, test_size=0.33, random_state=42)#切分数据集\n",
    "y_train=y_train.reshape(462,1)\n",
    "y_train=mat(y_train)\n",
    "y_validation=y_validation.reshape(228,1)\n",
    "y_validation=mat(y_validation)\n",
    "W=array([0,0,0,0,0,0,0,0,0,0,0,0,0,0,0])#模型参数初始化\n",
    "W=W.reshape(1,15)\n",
    "W=mat(W)\n",
    "lamda=0.00001#lamda为学习率\n",
    "i=0\n",
    "S=array([0,0,0,0,0,0,0,0,0,0,0,0,0,0,0])#存储G\n",
    "S=S.reshape(1,15)\n",
    "S=mat(S)\n",
    "k=0\n",
    "m=0\n",
    "loss_train=[]#存储训练集的loss\n",
    "loss_validation=[]#存储验证集的loss\n",
    "ix1=[]#存储迭代次数\n",
    "while 1:\n",
    "    ix1.append(k)\n",
    "    loss=0\n",
    "    lossv=0\n",
    "    #计算训练集的loss值\n",
    "    for j in range(462):\n",
    "        if y_train[j]*(X_train[j]*W.transpose())<1:\n",
    "            loss=loss+1\n",
    "    loss_train.append(loss)\n",
    "    #计算验证集的loss值\n",
    "    for j in range(228):\n",
    "        if y_validation[j]*(X_validation[j]*W.transpose())<1:\n",
    "            lossv=lossv+1\n",
    "    loss_validation.append(lossv)\n",
    "    \n",
    "    for i in range(462):\n",
    "        fx=1-y_train[i]*(X_train[i]*W.transpose())\n",
    "        if fx>=0:\n",
    "            G=-0.1*y_train[i]*X_train[i]\n",
    "        else:\n",
    "            G=0\n",
    "        S=S+G\n",
    "    S=(S+W)#S是求出的梯度\n",
    "    D=-S#D取梯度的反方向\n",
    "    W=W+lamda*D#更新模型参数\n",
    "    if loss<0.01 or k>500:#若loss值小于0.01或者迭代次数大于500则停止\n",
    "        break\n",
    "    k=k+1"
   ]
  },
  {
   "cell_type": "code",
   "execution_count": 13,
   "metadata": {},
   "outputs": [
    {
     "data": {
      "text/plain": [
       "Text(0,0.5,'loss')"
      ]
     },
     "execution_count": 13,
     "metadata": {},
     "output_type": "execute_result"
    },
    {
     "data": {
      "image/png": "[encoded data removed]",
      "text/plain": [
       "<matplotlib.figure.Figure at 0x1985abc41d0>"
      ]
     },
     "metadata": {},
     "output_type": "display_data"
    }
   ],
   "source": [
    "%matplotlib inline\n",
    "import matplotlib.pyplot as plt\n",
    "plt.plot(ix1,loss_train,'b-',lw=1.5,label='loss_train')\n",
    "plt.plot(ix1,loss_validation,'r-',lw=1.5,label='loss_validation')\n",
    "plt.legend(loc='upper right')\n",
    "plt.xlabel('iteration')\n",
    "plt.ylabel('loss')"
   ]
  }
 ],
 "metadata": {
  "kernelspec": {
   "display_name": "Python 3",
   "language": "python",
   "name": "python3"
  },
  "language_info": {
   "codemirror_mode": {
    "name": "ipython",
    "version": 3
   },
   "file_extension": ".py",
   "mimetype": "text/x-python",
   "name": "python",
   "nbconvert_exporter": "python",
   "pygments_lexer": "ipython3",
   "version": "3.6.3"
  }
 },
 "nbformat": 4,
 "nbformat_minor": 2
}
