{
 "cells": [
  {
   "cell_type": "code",
   "execution_count": 2,
   "metadata": {},
   "outputs": [],
   "source": [
    "from sklearn.datasets import load_svmlight_file\n",
    "from numpy import *\n",
    "from sklearn.model_selection import train_test_split\n",
    "data=load_svmlight_file(r'D:\\housing_scale.txt')#读取数据\n",
    "X=data[0]\n",
    "y=data[1]\n",
    "S=zeros((506,13))\n",
    "S=mat(S)\n",
    "X=X+S\n",
    "X=X.getA()\n",
    "c=ones(X.shape[0])\n",
    "X=insert(X, 0, values=c, axis=1)#添加一列为1的值，那么后面的W0就表示b\n",
    "X=mat(X)\n",
    "X_train, X_validation, y_train, y_validation = train_test_split(X, y, test_size=0.33, random_state=42)#划分训练集和验证集\n",
    "y_train=y_train.reshape(339,1)\n",
    "y_train=mat(y_train)\n",
    "y_validation=y_validation.reshape(167,1)\n",
    "y_validation=mat(y_validation)\n",
    "W=array([0,0,0,0,0,0,0,0,0,0,0,0,0,0])#将参数全部初始化为0\n",
    "W=W.reshape(14,1)\n",
    "W=mat(W)\n",
    "lamda=0.001#lamda为学习率\n",
    "k=0\n",
    "Loss_train=[]#存储在训练集上的损失\n",
    "Loss_validation=[]#存储在验证集上的损失\n",
    "i=[]#存储迭代次数\n",
    "while 1:\n",
    "    i.append(k)\n",
    "    Ltrain=0.5*(1/339)*(y_train-X_train*W).transpose()*(y_train-X_train*W)#训练集的loss函数\n",
    "    Lvalidation=0.5*(1/167)*(y_validation-X_validation*W).transpose()*(y_validation-X_validation*W)#测试集的loss函数\n",
    "    Lvalidation=Lvalidation.getA()\n",
    "    Ltrain=Ltrain.getA()\n",
    "    Loss_train.append(Ltrain[0][0])\n",
    "    Loss_validation.append(Lvalidation[0][0])\n",
    "    G=(1/339)*(-X_train.transpose()*y_train+X_train.transpose()*X_train*W)#G为loss函数的W偏导\n",
    "    D=-G#D为G的负方向\n",
    "    if Loss_train[k]<0.01 or k>1000:#loss小于0.01或者迭代次数大于1000时停止\n",
    "        break\n",
    "    else:\n",
    "            W=W+lamda*D#更新模型参数\n",
    "    k=k+1"
   ]
  },
  {
   "cell_type": "code",
   "execution_count": 3,
   "metadata": {},
   "outputs": [
    {
     "data": {
      "text/plain": [
       "Text(0,0.5,'loss')"
      ]
     },
     "execution_count": 3,
     "metadata": {},
     "output_type": "execute_result"
    },
    {
     "data": {
      "image/png": "[encoded data removed]",
      "text/plain": [
       "<matplotlib.figure.Figure at 0x1b7701d72b0>"
      ]
     },
     "metadata": {},
     "output_type": "display_data"
    }
   ],
   "source": [
    "%matplotlib inline\n",
    "import matplotlib.pyplot as plt\n",
    "plt.plot(i,Loss_train,'b-',lw=1.5,label='Loss_train')\n",
    "plt.plot(i,Loss_validation,'r-',lw=1.5,label='loss_validation')\n",
    "plt.legend(loc='upper right')\n",
    "plt.xlabel('iteration')\n",
    "plt.ylabel('loss')"
   ]
  }
 ],
 "metadata": {
  "kernelspec": {
   "display_name": "Python 3",
   "language": "python",
   "name": "python3"
  },
  "language_info": {
   "codemirror_mode": {
    "name": "ipython",
    "version": 3
   },
   "file_extension": ".py",
   "mimetype": "text/x-python",
   "name": "python",
   "nbconvert_exporter": "python",
   "pygments_lexer": "ipython3",
   "version": "3.6.3"
  }
 },
 "nbformat": 4,
 "nbformat_minor": 2
}
